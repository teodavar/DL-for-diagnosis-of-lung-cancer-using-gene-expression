{
 "cells": [
  {
   "cell_type": "code",
   "execution_count": null,
   "id": "d11dc42a",
   "metadata": {},
   "outputs": [],
   "source": [
    "try:\n",
    "  import google.colab\n",
    "  IN_COLAB = True\n",
    "except:\n",
    "  IN_COLAB = False"
   ]
  },
  {
   "cell_type": "code",
   "execution_count": null,
   "id": "9d5b615d",
   "metadata": {},
   "outputs": [],
   "source": [
    "if IN_COLAB:\n",
    "    from google.colab import drive\n",
    "    drive.mount('/content/drive')"
   ]
  },
  {
   "cell_type": "code",
   "execution_count": null,
   "id": "a6be0e84",
   "metadata": {},
   "outputs": [],
   "source": [
    "if IN_COLAB:\n",
    "    %cd /content/drive/MyDrive/dl"
   ]
  },
  {
   "cell_type": "code",
   "execution_count": null,
   "id": "fb61a033",
   "metadata": {},
   "outputs": [],
   "source": [
    "if IN_COLAB:\n",
    "    # Load the TensorBoard notebook extension\n",
    "    %load_ext tensorboard"
   ]
  },
  {
   "cell_type": "code",
   "execution_count": 1,
   "id": "geographic-wagon",
   "metadata": {},
   "outputs": [],
   "source": [
    "import tensorflow as tf\n",
    "import numpy as np\n",
    "import pandas as pd\n",
    "import matplotlib.pyplot as plt\n",
    "#import seaborn as sns\n",
    "from scipy.stats import entropy\n",
    "from sklearn.model_selection import train_test_split\n",
    "from sklearn import preprocessing\n",
    "from sklearn.utils import shuffle\n",
    "from datetime import datetime\n",
    "from tensorflow import keras\n",
    "from sklearn.metrics import roc_curve, auc\n"
   ]
  },
  {
   "cell_type": "markdown",
   "id": "fe6b7d59",
   "metadata": {},
   "source": [
    "For statistics later on"
   ]
  },
  {
   "cell_type": "code",
   "execution_count": 2,
   "id": "5d1caedd",
   "metadata": {},
   "outputs": [],
   "source": [
    "accuaracies = []\n",
    "precisions = []\n",
    "recalls = []\n",
    "datasets = []"
   ]
  },
  {
   "cell_type": "code",
   "execution_count": 4,
   "id": "6a6a6dab",
   "metadata": {},
   "outputs": [],
   "source": [
    "def mlp(inputs_train, inputs_val, labels_train, labels_val):\n",
    "    \n",
    "\n",
    "    learning_rate = .0001\n",
    "    num_epochs = 50\n",
    "    batch_size = 10\n",
    "    input_shape = inputs_train.shape[1]\n",
    "    print(\"input_shape: \", input_shape)\n",
    "    \n",
    "    # Let's design the model architecture.\n",
    "    model = tf.keras.models.Sequential([\n",
    "        tf.keras.layers.InputLayer(input_shape=(input_shape), name=\"feature\"),\n",
    "        tf.keras.layers.Dense(512, activation='relu'),\n",
    "        #tf.keras.layers.Dense(512, activation='relu'),\n",
    "        tf.keras.layers.Dense(256, activation='relu'),\n",
    "        tf.keras.layers.Dense(128, activation='relu'), \n",
    "        tf.keras.layers.Dense(64, activation='relu'), \n",
    "        tf.keras.layers.Dense((1), activation='sigmoid')\n",
    "    ])\n",
    "\n",
    "    model.compile(optimizer = tf.keras.optimizers.Adam(learning_rate=learning_rate),\n",
    "        # Loss function to minimize\n",
    "        loss=keras.losses.BinaryCrossentropy(),\n",
    "        #loss=keras.losses.BinaryFocalCrossentropy(),\n",
    "        # List of metrics to monitor\n",
    "        metrics=['AUC','accuracy', 'Recall', 'Precision'])\n",
    "\n",
    "\n",
    "    model.summary()\n",
    "    \n",
    "    #Training the model.\n",
    "    stopping_callback = tf.keras.callbacks.EarlyStopping(monitor='loss', patience=3)\n",
    "    log_dir = \"logs/fit/\" + datetime.now().strftime(\"%Y%m%d-%H%M%S\")\n",
    "\n",
    "    tensorboard_callback = tf.keras.callbacks.TensorBoard(log_dir=log_dir, histogram_freq=1)\n",
    "\n",
    "    history = model.fit(x=inputs_train,y=labels_train,\n",
    "                            verbose=1,\n",
    "                            validation_data=(inputs_val, labels_val), \n",
    "                            epochs=num_epochs, batch_size=batch_size, callbacks=[stopping_callback, tensorboard_callback])      \n",
    "    \n",
    "    save_filename = \"saved_models/mlp.h5\" \n",
    "    model.save(save_filename)      \n",
    "    return model, history"
   ]
  },
  {
   "cell_type": "code",
   "execution_count": 5,
   "id": "6f638f0a",
   "metadata": {},
   "outputs": [
    {
     "data": {
      "text/plain": [
       "(600, 19963)"
      ]
     },
     "execution_count": 5,
     "metadata": {},
     "output_type": "execute_result"
    }
   ],
   "source": [
    "tcga_df = pd.read_csv('my_full_data_v1.csv', index_col=0)\n",
    "tcga_df.shape"
   ]
  },
  {
   "cell_type": "code",
   "execution_count": 7,
   "id": "21b1137b",
   "metadata": {},
   "outputs": [
    {
     "name": "stdout",
     "output_type": "stream",
     "text": [
      "(600, 19962)\n",
      "(600, 1)\n",
      "Length of inputs_train: (486, 19962)\n",
      "Length of labels_train: (486, 1)\n",
      "Length of inputs_val: (54, 19962)\n",
      "Length of labels_val: (54, 1)\n",
      "Length of inputs_test: (60, 19962)\n",
      "Length of labels_test: (60, 1)\n"
     ]
    }
   ],
   "source": [
    "input_data = tcga_df.iloc[:,:19962]\n",
    "print(input_data.shape)\n",
    "label_data = tcga_df.iloc[:,19962:]\n",
    "print(label_data.shape)\n",
    "inputs_training, inputs_test, labels_training, labels_test = train_test_split(input_data, label_data, test_size=0.1, shuffle=True)\n",
    "inputs_train, inputs_val, labels_train, labels_val = train_test_split(inputs_training, labels_training, test_size=0.1, shuffle=True)\n",
    "print(\"Length of inputs_train:\", inputs_train.shape)\n",
    "print(\"Length of labels_train:\", labels_train.shape)\n",
    "print(\"Length of inputs_val:\", inputs_val.shape)\n",
    "print(\"Length of labels_val:\", labels_val.shape)\n",
    "print(\"Length of inputs_test:\", inputs_test.shape)\n",
    "print(\"Length of labels_test:\", labels_test.shape)"
   ]
  },
  {
   "cell_type": "markdown",
   "id": "4386774e",
   "metadata": {},
   "source": [
    "Confirm that the label data split corectly"
   ]
  },
  {
   "cell_type": "code",
   "execution_count": 9,
   "id": "4c0c4b6f",
   "metadata": {},
   "outputs": [
    {
     "data": {
      "text/html": [
       "<div>\n",
       "<style scoped>\n",
       "    .dataframe tbody tr th:only-of-type {\n",
       "        vertical-align: middle;\n",
       "    }\n",
       "\n",
       "    .dataframe tbody tr th {\n",
       "        vertical-align: top;\n",
       "    }\n",
       "\n",
       "    .dataframe thead th {\n",
       "        text-align: right;\n",
       "    }\n",
       "</style>\n",
       "<table border=\"1\" class=\"dataframe\">\n",
       "  <thead>\n",
       "    <tr style=\"text-align: right;\">\n",
       "      <th></th>\n",
       "      <th>AP006621.6</th>\n",
       "    </tr>\n",
       "    <tr>\n",
       "      <th>gene_name</th>\n",
       "      <th></th>\n",
       "    </tr>\n",
       "  </thead>\n",
       "  <tbody>\n",
       "    <tr>\n",
       "      <th>f8a748c2-91e5-49a2-9095-229476dc9ce5</th>\n",
       "      <td>8</td>\n",
       "    </tr>\n",
       "    <tr>\n",
       "      <th>f4a76e18-60fa-4ef2-91ef-e2d7a1d11c8d</th>\n",
       "      <td>11</td>\n",
       "    </tr>\n",
       "    <tr>\n",
       "      <th>e3955555-9663-49da-bb98-f6593eb74d7f</th>\n",
       "      <td>4</td>\n",
       "    </tr>\n",
       "    <tr>\n",
       "      <th>de6f3bfe-6e91-4894-a826-67ebf147a6f0</th>\n",
       "      <td>9</td>\n",
       "    </tr>\n",
       "    <tr>\n",
       "      <th>dd012e44-f2ef-4bd4-92ac-7403ec383b6d</th>\n",
       "      <td>11</td>\n",
       "    </tr>\n",
       "    <tr>\n",
       "      <th>...</th>\n",
       "      <td>...</td>\n",
       "    </tr>\n",
       "    <tr>\n",
       "      <th>02f6c9d4-8296-4e00-9e78-4f4d8c942340</th>\n",
       "      <td>11</td>\n",
       "    </tr>\n",
       "    <tr>\n",
       "      <th>020a2284-03f3-4439-89bb-2292ebc3ecd2</th>\n",
       "      <td>48</td>\n",
       "    </tr>\n",
       "    <tr>\n",
       "      <th>01ebdef8-920f-4b71-8b44-512598962d6b</th>\n",
       "      <td>12</td>\n",
       "    </tr>\n",
       "    <tr>\n",
       "      <th>00fabec9-d311-4994-a7e5-eb91178d14f2</th>\n",
       "      <td>9</td>\n",
       "    </tr>\n",
       "    <tr>\n",
       "      <th>00d461ae-a1d8-42f2-abd8-5e159363d857</th>\n",
       "      <td>7</td>\n",
       "    </tr>\n",
       "  </tbody>\n",
       "</table>\n",
       "<p>600 rows × 1 columns</p>\n",
       "</div>"
      ],
      "text/plain": [
       "                                      AP006621.6\n",
       "gene_name                                       \n",
       "f8a748c2-91e5-49a2-9095-229476dc9ce5           8\n",
       "f4a76e18-60fa-4ef2-91ef-e2d7a1d11c8d          11\n",
       "e3955555-9663-49da-bb98-f6593eb74d7f           4\n",
       "de6f3bfe-6e91-4894-a826-67ebf147a6f0           9\n",
       "dd012e44-f2ef-4bd4-92ac-7403ec383b6d          11\n",
       "...                                          ...\n",
       "02f6c9d4-8296-4e00-9e78-4f4d8c942340          11\n",
       "020a2284-03f3-4439-89bb-2292ebc3ecd2          48\n",
       "01ebdef8-920f-4b71-8b44-512598962d6b          12\n",
       "00fabec9-d311-4994-a7e5-eb91178d14f2           9\n",
       "00d461ae-a1d8-42f2-abd8-5e159363d857           7\n",
       "\n",
       "[600 rows x 1 columns]"
      ]
     },
     "execution_count": 9,
     "metadata": {},
     "output_type": "execute_result"
    }
   ],
   "source": [
    "input_data.iloc[:,-1:]"
   ]
  },
  {
   "cell_type": "code",
   "execution_count": 10,
   "id": "81adf173",
   "metadata": {},
   "outputs": [
    {
     "data": {
      "text/html": [
       "<div>\n",
       "<style scoped>\n",
       "    .dataframe tbody tr th:only-of-type {\n",
       "        vertical-align: middle;\n",
       "    }\n",
       "\n",
       "    .dataframe tbody tr th {\n",
       "        vertical-align: top;\n",
       "    }\n",
       "\n",
       "    .dataframe thead th {\n",
       "        text-align: right;\n",
       "    }\n",
       "</style>\n",
       "<table border=\"1\" class=\"dataframe\">\n",
       "  <thead>\n",
       "    <tr style=\"text-align: right;\">\n",
       "      <th></th>\n",
       "      <th>label</th>\n",
       "    </tr>\n",
       "    <tr>\n",
       "      <th>gene_name</th>\n",
       "      <th></th>\n",
       "    </tr>\n",
       "  </thead>\n",
       "  <tbody>\n",
       "    <tr>\n",
       "      <th>f8a748c2-91e5-49a2-9095-229476dc9ce5</th>\n",
       "      <td>0</td>\n",
       "    </tr>\n",
       "    <tr>\n",
       "      <th>f4a76e18-60fa-4ef2-91ef-e2d7a1d11c8d</th>\n",
       "      <td>0</td>\n",
       "    </tr>\n",
       "    <tr>\n",
       "      <th>e3955555-9663-49da-bb98-f6593eb74d7f</th>\n",
       "      <td>0</td>\n",
       "    </tr>\n",
       "    <tr>\n",
       "      <th>de6f3bfe-6e91-4894-a826-67ebf147a6f0</th>\n",
       "      <td>0</td>\n",
       "    </tr>\n",
       "    <tr>\n",
       "      <th>dd012e44-f2ef-4bd4-92ac-7403ec383b6d</th>\n",
       "      <td>0</td>\n",
       "    </tr>\n",
       "    <tr>\n",
       "      <th>...</th>\n",
       "      <td>...</td>\n",
       "    </tr>\n",
       "    <tr>\n",
       "      <th>02f6c9d4-8296-4e00-9e78-4f4d8c942340</th>\n",
       "      <td>1</td>\n",
       "    </tr>\n",
       "    <tr>\n",
       "      <th>020a2284-03f3-4439-89bb-2292ebc3ecd2</th>\n",
       "      <td>1</td>\n",
       "    </tr>\n",
       "    <tr>\n",
       "      <th>01ebdef8-920f-4b71-8b44-512598962d6b</th>\n",
       "      <td>1</td>\n",
       "    </tr>\n",
       "    <tr>\n",
       "      <th>00fabec9-d311-4994-a7e5-eb91178d14f2</th>\n",
       "      <td>1</td>\n",
       "    </tr>\n",
       "    <tr>\n",
       "      <th>00d461ae-a1d8-42f2-abd8-5e159363d857</th>\n",
       "      <td>1</td>\n",
       "    </tr>\n",
       "  </tbody>\n",
       "</table>\n",
       "<p>600 rows × 1 columns</p>\n",
       "</div>"
      ],
      "text/plain": [
       "                                      label\n",
       "gene_name                                  \n",
       "f8a748c2-91e5-49a2-9095-229476dc9ce5      0\n",
       "f4a76e18-60fa-4ef2-91ef-e2d7a1d11c8d      0\n",
       "e3955555-9663-49da-bb98-f6593eb74d7f      0\n",
       "de6f3bfe-6e91-4894-a826-67ebf147a6f0      0\n",
       "dd012e44-f2ef-4bd4-92ac-7403ec383b6d      0\n",
       "...                                     ...\n",
       "02f6c9d4-8296-4e00-9e78-4f4d8c942340      1\n",
       "020a2284-03f3-4439-89bb-2292ebc3ecd2      1\n",
       "01ebdef8-920f-4b71-8b44-512598962d6b      1\n",
       "00fabec9-d311-4994-a7e5-eb91178d14f2      1\n",
       "00d461ae-a1d8-42f2-abd8-5e159363d857      1\n",
       "\n",
       "[600 rows x 1 columns]"
      ]
     },
     "execution_count": 10,
     "metadata": {},
     "output_type": "execute_result"
    }
   ],
   "source": [
    "label_data"
   ]
  },
  {
   "cell_type": "code",
   "execution_count": 11,
   "id": "699c917f",
   "metadata": {},
   "outputs": [
    {
     "data": {
      "text/html": [
       "<div>\n",
       "<style scoped>\n",
       "    .dataframe tbody tr th:only-of-type {\n",
       "        vertical-align: middle;\n",
       "    }\n",
       "\n",
       "    .dataframe tbody tr th {\n",
       "        vertical-align: top;\n",
       "    }\n",
       "\n",
       "    .dataframe thead th {\n",
       "        text-align: right;\n",
       "    }\n",
       "</style>\n",
       "<table border=\"1\" class=\"dataframe\">\n",
       "  <thead>\n",
       "    <tr style=\"text-align: right;\">\n",
       "      <th></th>\n",
       "      <th>AP006621.6</th>\n",
       "      <th>label</th>\n",
       "    </tr>\n",
       "    <tr>\n",
       "      <th>gene_name</th>\n",
       "      <th></th>\n",
       "      <th></th>\n",
       "    </tr>\n",
       "  </thead>\n",
       "  <tbody>\n",
       "    <tr>\n",
       "      <th>f8a748c2-91e5-49a2-9095-229476dc9ce5</th>\n",
       "      <td>8</td>\n",
       "      <td>0</td>\n",
       "    </tr>\n",
       "    <tr>\n",
       "      <th>f4a76e18-60fa-4ef2-91ef-e2d7a1d11c8d</th>\n",
       "      <td>11</td>\n",
       "      <td>0</td>\n",
       "    </tr>\n",
       "    <tr>\n",
       "      <th>e3955555-9663-49da-bb98-f6593eb74d7f</th>\n",
       "      <td>4</td>\n",
       "      <td>0</td>\n",
       "    </tr>\n",
       "    <tr>\n",
       "      <th>de6f3bfe-6e91-4894-a826-67ebf147a6f0</th>\n",
       "      <td>9</td>\n",
       "      <td>0</td>\n",
       "    </tr>\n",
       "    <tr>\n",
       "      <th>dd012e44-f2ef-4bd4-92ac-7403ec383b6d</th>\n",
       "      <td>11</td>\n",
       "      <td>0</td>\n",
       "    </tr>\n",
       "    <tr>\n",
       "      <th>...</th>\n",
       "      <td>...</td>\n",
       "      <td>...</td>\n",
       "    </tr>\n",
       "    <tr>\n",
       "      <th>02f6c9d4-8296-4e00-9e78-4f4d8c942340</th>\n",
       "      <td>11</td>\n",
       "      <td>1</td>\n",
       "    </tr>\n",
       "    <tr>\n",
       "      <th>020a2284-03f3-4439-89bb-2292ebc3ecd2</th>\n",
       "      <td>48</td>\n",
       "      <td>1</td>\n",
       "    </tr>\n",
       "    <tr>\n",
       "      <th>01ebdef8-920f-4b71-8b44-512598962d6b</th>\n",
       "      <td>12</td>\n",
       "      <td>1</td>\n",
       "    </tr>\n",
       "    <tr>\n",
       "      <th>00fabec9-d311-4994-a7e5-eb91178d14f2</th>\n",
       "      <td>9</td>\n",
       "      <td>1</td>\n",
       "    </tr>\n",
       "    <tr>\n",
       "      <th>00d461ae-a1d8-42f2-abd8-5e159363d857</th>\n",
       "      <td>7</td>\n",
       "      <td>1</td>\n",
       "    </tr>\n",
       "  </tbody>\n",
       "</table>\n",
       "<p>600 rows × 2 columns</p>\n",
       "</div>"
      ],
      "text/plain": [
       "                                      AP006621.6  label\n",
       "gene_name                                              \n",
       "f8a748c2-91e5-49a2-9095-229476dc9ce5           8      0\n",
       "f4a76e18-60fa-4ef2-91ef-e2d7a1d11c8d          11      0\n",
       "e3955555-9663-49da-bb98-f6593eb74d7f           4      0\n",
       "de6f3bfe-6e91-4894-a826-67ebf147a6f0           9      0\n",
       "dd012e44-f2ef-4bd4-92ac-7403ec383b6d          11      0\n",
       "...                                          ...    ...\n",
       "02f6c9d4-8296-4e00-9e78-4f4d8c942340          11      1\n",
       "020a2284-03f3-4439-89bb-2292ebc3ecd2          48      1\n",
       "01ebdef8-920f-4b71-8b44-512598962d6b          12      1\n",
       "00fabec9-d311-4994-a7e5-eb91178d14f2           9      1\n",
       "00d461ae-a1d8-42f2-abd8-5e159363d857           7      1\n",
       "\n",
       "[600 rows x 2 columns]"
      ]
     },
     "execution_count": 11,
     "metadata": {},
     "output_type": "execute_result"
    }
   ],
   "source": [
    "tcga_df.iloc[:,19961:]"
   ]
  },
  {
   "cell_type": "code",
   "execution_count": 12,
   "id": "f3fde1af",
   "metadata": {},
   "outputs": [],
   "source": [
    "tcga_cols = tcga_df.columns"
   ]
  },
  {
   "cell_type": "code",
   "execution_count": 13,
   "id": "51f88fd9",
   "metadata": {},
   "outputs": [
    {
     "name": "stdout",
     "output_type": "stream",
     "text": [
      "input_shape:  19962\n",
      "Model: \"sequential\"\n",
      "_________________________________________________________________\n",
      " Layer (type)                Output Shape              Param #   \n",
      "=================================================================\n",
      " dense (Dense)               (None, 512)               10221056  \n",
      "                                                                 \n",
      " dense_1 (Dense)             (None, 256)               131328    \n",
      "                                                                 \n",
      " dense_2 (Dense)             (None, 128)               32896     \n",
      "                                                                 \n",
      " dense_3 (Dense)             (None, 64)                8256      \n",
      "                                                                 \n",
      " dense_4 (Dense)             (None, 1)                 65        \n",
      "                                                                 \n",
      "=================================================================\n",
      "Total params: 10,393,601\n",
      "Trainable params: 10,393,601\n",
      "Non-trainable params: 0\n",
      "_________________________________________________________________\n",
      "Epoch 1/50\n",
      "49/49 [==============================] - 10s 168ms/step - loss: 217.5615 - auc: 0.8979 - accuracy: 0.9630 - recall: 0.9794 - precision: 0.9794 - val_loss: 0.0000e+00 - val_auc: 1.0000 - val_accuracy: 1.0000 - val_recall: 1.0000 - val_precision: 1.0000\n",
      "Epoch 2/50\n",
      "49/49 [==============================] - 7s 153ms/step - loss: 290.9167 - auc: 0.9002 - accuracy: 0.9671 - recall: 0.9840 - precision: 0.9795 - val_loss: 0.0000e+00 - val_auc: 1.0000 - val_accuracy: 1.0000 - val_recall: 1.0000 - val_precision: 1.0000\n",
      "Epoch 3/50\n",
      "49/49 [==============================] - 7s 149ms/step - loss: 19.9535 - auc: 0.9887 - accuracy: 0.9959 - recall: 0.9977 - precision: 0.9977 - val_loss: 0.9094 - val_auc: 0.8750 - val_accuracy: 0.9815 - val_recall: 1.0000 - val_precision: 0.9804\n",
      "Epoch 4/50\n",
      "49/49 [==============================] - 8s 157ms/step - loss: 22.5319 - auc: 0.9784 - accuracy: 0.9938 - recall: 0.9977 - precision: 0.9954 - val_loss: 0.0000e+00 - val_auc: 1.0000 - val_accuracy: 1.0000 - val_recall: 1.0000 - val_precision: 1.0000\n",
      "Epoch 5/50\n",
      "49/49 [==============================] - 8s 167ms/step - loss: 46.8759 - auc: 0.9558 - accuracy: 0.9856 - recall: 0.9931 - precision: 0.9909 - val_loss: 0.0000e+00 - val_auc: 1.0000 - val_accuracy: 1.0000 - val_recall: 1.0000 - val_precision: 1.0000\n",
      "Epoch 6/50\n",
      "49/49 [==============================] - 7s 146ms/step - loss: 39.9709 - auc: 0.9455 - accuracy: 0.9835 - recall: 0.9931 - precision: 0.9886 - val_loss: 136.0009 - val_auc: 0.8750 - val_accuracy: 0.9815 - val_recall: 1.0000 - val_precision: 0.9804\n"
     ]
    }
   ],
   "source": [
    "model_mlp_all, history_mlp_all = mlp(inputs_train, inputs_val, labels_train, labels_val)"
   ]
  },
  {
   "cell_type": "code",
   "execution_count": 14,
   "id": "21567b19",
   "metadata": {
    "scrolled": true
   },
   "outputs": [
    {
     "name": "stdout",
     "output_type": "stream",
     "text": [
      "2/2 - 0s - loss: 0.0000e+00 - auc: 1.0000 - accuracy: 1.0000 - recall: 1.0000 - precision: 1.0000 - 62ms/epoch - 31ms/step\n"
     ]
    },
    {
     "data": {
      "text/plain": [
       "[0.0, 1.0, 1.0, 1.0, 1.0]"
      ]
     },
     "execution_count": 14,
     "metadata": {},
     "output_type": "execute_result"
    }
   ],
   "source": [
    "evaluation_all = model_mlp_all.evaluate(inputs_test, labels_test, verbose=2)\n",
    "evaluation_all"
   ]
  },
  {
   "cell_type": "code",
   "execution_count": 17,
   "id": "f6d83bf7",
   "metadata": {},
   "outputs": [],
   "source": [
    "accuaracies.append(round(evaluation_all[2]*100, 2))\n",
    "precisions.append(round(evaluation_all[4]*100, 2))\n",
    "recalls.append(round(evaluation_all[3]*100, 2))\n",
    "datasets.append(\"All genes(=19963)\")"
   ]
  },
  {
   "cell_type": "code",
   "execution_count": 19,
   "id": "648a4633",
   "metadata": {},
   "outputs": [
    {
     "name": "stdout",
     "output_type": "stream",
     "text": [
      "2/2 [==============================] - 0s 11ms/step\n"
     ]
    }
   ],
   "source": [
    "labels_pred_all = model_mlp_all.predict(inputs_test).ravel()\n",
    "fpr_all, tpr_all, thresholds_all = roc_curve(labels_test, labels_pred_all)"
   ]
  },
  {
   "cell_type": "markdown",
   "id": "b6ee5273",
   "metadata": {},
   "source": [
    "Let's take a prediction for a cancer sample"
   ]
  },
  {
   "cell_type": "code",
   "execution_count": 62,
   "id": "5af2eb92",
   "metadata": {},
   "outputs": [
    {
     "data": {
      "text/html": [
       "<div>\n",
       "<style scoped>\n",
       "    .dataframe tbody tr th:only-of-type {\n",
       "        vertical-align: middle;\n",
       "    }\n",
       "\n",
       "    .dataframe tbody tr th {\n",
       "        vertical-align: top;\n",
       "    }\n",
       "\n",
       "    .dataframe thead th {\n",
       "        text-align: right;\n",
       "    }\n",
       "</style>\n",
       "<table border=\"1\" class=\"dataframe\">\n",
       "  <thead>\n",
       "    <tr style=\"text-align: right;\">\n",
       "      <th></th>\n",
       "      <th>label</th>\n",
       "    </tr>\n",
       "    <tr>\n",
       "      <th>gene_name</th>\n",
       "      <th></th>\n",
       "    </tr>\n",
       "  </thead>\n",
       "  <tbody>\n",
       "    <tr>\n",
       "      <th>aefc9460-27d4-4d7f-8167-baa2a80935b7</th>\n",
       "      <td>1</td>\n",
       "    </tr>\n",
       "    <tr>\n",
       "      <th>3e08ac76-9fba-40cf-8743-e2e1fb14f067</th>\n",
       "      <td>1</td>\n",
       "    </tr>\n",
       "    <tr>\n",
       "      <th>3369898e-21d8-4ded-8bbc-a746b1a743ad</th>\n",
       "      <td>1</td>\n",
       "    </tr>\n",
       "    <tr>\n",
       "      <th>98a4b8cc-fd54-454c-adcd-6fe9ae159a3b</th>\n",
       "      <td>1</td>\n",
       "    </tr>\n",
       "    <tr>\n",
       "      <th>6a8d149a-963f-4e36-a031-aef7b057452b</th>\n",
       "      <td>0</td>\n",
       "    </tr>\n",
       "    <tr>\n",
       "      <th>52e52b5d-4112-4616-8ddd-2a4524a91778</th>\n",
       "      <td>1</td>\n",
       "    </tr>\n",
       "    <tr>\n",
       "      <th>7643fc1a-086e-4ea5-9766-3dde13cc00b4</th>\n",
       "      <td>1</td>\n",
       "    </tr>\n",
       "    <tr>\n",
       "      <th>da52147d-9bd6-449c-b5d9-b168822ddac0</th>\n",
       "      <td>1</td>\n",
       "    </tr>\n",
       "    <tr>\n",
       "      <th>0a11e8dc-5d34-4fcb-b2dc-aa57b4e90fc9</th>\n",
       "      <td>1</td>\n",
       "    </tr>\n",
       "    <tr>\n",
       "      <th>ff36264d-8485-46e6-8259-0b55f651ed8f</th>\n",
       "      <td>1</td>\n",
       "    </tr>\n",
       "    <tr>\n",
       "      <th>da145aec-4391-4fce-b5d0-bf91065b765e</th>\n",
       "      <td>1</td>\n",
       "    </tr>\n",
       "    <tr>\n",
       "      <th>1a0143ed-cd70-498f-b094-bc71b6921fb3</th>\n",
       "      <td>1</td>\n",
       "    </tr>\n",
       "    <tr>\n",
       "      <th>f21b5258-2e93-4fe0-bd98-9eb1216e824b</th>\n",
       "      <td>1</td>\n",
       "    </tr>\n",
       "    <tr>\n",
       "      <th>da046621-2982-42dc-b54d-6c875ecb5368</th>\n",
       "      <td>1</td>\n",
       "    </tr>\n",
       "    <tr>\n",
       "      <th>39af4940-aeba-4d26-96fc-68da8663bc81</th>\n",
       "      <td>1</td>\n",
       "    </tr>\n",
       "    <tr>\n",
       "      <th>2a05b2c0-f94d-4c07-889a-def7131895bd</th>\n",
       "      <td>1</td>\n",
       "    </tr>\n",
       "    <tr>\n",
       "      <th>df3e51ff-63ad-45c2-ba71-676c5eb6b9e0</th>\n",
       "      <td>1</td>\n",
       "    </tr>\n",
       "    <tr>\n",
       "      <th>c16f63fb-a468-48e8-b679-6e26b8457530</th>\n",
       "      <td>1</td>\n",
       "    </tr>\n",
       "    <tr>\n",
       "      <th>bfab8eeb-df99-4e79-a6f3-50915c18fc6c</th>\n",
       "      <td>0</td>\n",
       "    </tr>\n",
       "    <tr>\n",
       "      <th>758b1a4d-bd46-4611-b8c3-49c5f62a2dab</th>\n",
       "      <td>1</td>\n",
       "    </tr>\n",
       "    <tr>\n",
       "      <th>56c858be-3637-4ba0-81be-208a3edac992</th>\n",
       "      <td>1</td>\n",
       "    </tr>\n",
       "    <tr>\n",
       "      <th>25a6fe1b-0472-489f-a721-f596395badb1</th>\n",
       "      <td>1</td>\n",
       "    </tr>\n",
       "    <tr>\n",
       "      <th>819e9776-131f-4c00-b93c-9936cbcc55b8</th>\n",
       "      <td>1</td>\n",
       "    </tr>\n",
       "    <tr>\n",
       "      <th>812033b2-3784-44bf-8913-56307b267ea9</th>\n",
       "      <td>1</td>\n",
       "    </tr>\n",
       "    <tr>\n",
       "      <th>7b07706f-a1b4-4f18-a276-0822b578cc40</th>\n",
       "      <td>1</td>\n",
       "    </tr>\n",
       "  </tbody>\n",
       "</table>\n",
       "</div>"
      ],
      "text/plain": [
       "                                      label\n",
       "gene_name                                  \n",
       "aefc9460-27d4-4d7f-8167-baa2a80935b7      1\n",
       "3e08ac76-9fba-40cf-8743-e2e1fb14f067      1\n",
       "3369898e-21d8-4ded-8bbc-a746b1a743ad      1\n",
       "98a4b8cc-fd54-454c-adcd-6fe9ae159a3b      1\n",
       "6a8d149a-963f-4e36-a031-aef7b057452b      0\n",
       "52e52b5d-4112-4616-8ddd-2a4524a91778      1\n",
       "7643fc1a-086e-4ea5-9766-3dde13cc00b4      1\n",
       "da52147d-9bd6-449c-b5d9-b168822ddac0      1\n",
       "0a11e8dc-5d34-4fcb-b2dc-aa57b4e90fc9      1\n",
       "ff36264d-8485-46e6-8259-0b55f651ed8f      1\n",
       "da145aec-4391-4fce-b5d0-bf91065b765e      1\n",
       "1a0143ed-cd70-498f-b094-bc71b6921fb3      1\n",
       "f21b5258-2e93-4fe0-bd98-9eb1216e824b      1\n",
       "da046621-2982-42dc-b54d-6c875ecb5368      1\n",
       "39af4940-aeba-4d26-96fc-68da8663bc81      1\n",
       "2a05b2c0-f94d-4c07-889a-def7131895bd      1\n",
       "df3e51ff-63ad-45c2-ba71-676c5eb6b9e0      1\n",
       "c16f63fb-a468-48e8-b679-6e26b8457530      1\n",
       "bfab8eeb-df99-4e79-a6f3-50915c18fc6c      0\n",
       "758b1a4d-bd46-4611-b8c3-49c5f62a2dab      1\n",
       "56c858be-3637-4ba0-81be-208a3edac992      1\n",
       "25a6fe1b-0472-489f-a721-f596395badb1      1\n",
       "819e9776-131f-4c00-b93c-9936cbcc55b8      1\n",
       "812033b2-3784-44bf-8913-56307b267ea9      1\n",
       "7b07706f-a1b4-4f18-a276-0822b578cc40      1"
      ]
     },
     "execution_count": 62,
     "metadata": {},
     "output_type": "execute_result"
    }
   ],
   "source": [
    "labels_test.head(25)"
   ]
  },
  {
   "cell_type": "code",
   "execution_count": 72,
   "id": "ba679f2f",
   "metadata": {},
   "outputs": [
    {
     "data": {
      "text/plain": [
       "TSPAN6        2101\n",
       "TNMD             0\n",
       "DPM1          1078\n",
       "SCYL3          750\n",
       "C1orf112       237\n",
       "              ... \n",
       "AL451106.1       0\n",
       "AC008763.4       0\n",
       "AC006486.3       0\n",
       "AL391628.1      11\n",
       "AP006621.6       8\n",
       "Name: da52147d-9bd6-449c-b5d9-b168822ddac0, Length: 19962, dtype: int64"
      ]
     },
     "execution_count": 72,
     "metadata": {},
     "output_type": "execute_result"
    }
   ],
   "source": [
    "# take the Name of the output (normal 4,18)\n",
    "test_row = inputs_test.iloc[7]\n",
    "test_row"
   ]
  },
  {
   "cell_type": "code",
   "execution_count": 73,
   "id": "d8e9c0f1",
   "metadata": {},
   "outputs": [
    {
     "data": {
      "text/plain": [
       "(19962, 1)"
      ]
     },
     "execution_count": 73,
     "metadata": {},
     "output_type": "execute_result"
    }
   ],
   "source": [
    "test_row = test_row.to_frame()\n",
    "test_row.shape"
   ]
  },
  {
   "cell_type": "code",
   "execution_count": 74,
   "id": "a130a3e8",
   "metadata": {},
   "outputs": [
    {
     "name": "stdout",
     "output_type": "stream",
     "text": [
      "1/1 [==============================] - 0s 30ms/step\n"
     ]
    },
    {
     "data": {
      "text/plain": [
       "array([[1.]], dtype=float32)"
      ]
     },
     "execution_count": 74,
     "metadata": {},
     "output_type": "execute_result"
    }
   ],
   "source": [
    "pred = model_mlp_all.predict(test_row.T)\n",
    "pred"
   ]
  },
  {
   "cell_type": "markdown",
   "id": "e6884b2e",
   "metadata": {},
   "source": []
  },
  {
   "cell_type": "code",
   "execution_count": 75,
   "id": "357ef66f",
   "metadata": {},
   "outputs": [
    {
     "data": {
      "text/plain": [
       "(543, 20502)"
      ]
     },
     "execution_count": 75,
     "metadata": {},
     "output_type": "execute_result"
    }
   ],
   "source": [
    "icgc_df = pd.read_csv('icgc_train_data_v2.csv', index_col=0)\n",
    "icgc_df.shape"
   ]
  },
  {
   "cell_type": "code",
   "execution_count": 76,
   "id": "1da1cad4",
   "metadata": {},
   "outputs": [
    {
     "data": {
      "text/html": [
       "<div>\n",
       "<style scoped>\n",
       "    .dataframe tbody tr th:only-of-type {\n",
       "        vertical-align: middle;\n",
       "    }\n",
       "\n",
       "    .dataframe tbody tr th {\n",
       "        vertical-align: top;\n",
       "    }\n",
       "\n",
       "    .dataframe thead th {\n",
       "        text-align: right;\n",
       "    }\n",
       "</style>\n",
       "<table border=\"1\" class=\"dataframe\">\n",
       "  <thead>\n",
       "    <tr style=\"text-align: right;\">\n",
       "      <th></th>\n",
       "      <th>A1BG</th>\n",
       "      <th>A1CF</th>\n",
       "      <th>A2BP1</th>\n",
       "      <th>A2LD1</th>\n",
       "      <th>A2M</th>\n",
       "      <th>A2ML1</th>\n",
       "      <th>A4GALT</th>\n",
       "      <th>A4GNT</th>\n",
       "      <th>AAA1</th>\n",
       "      <th>AAAS</th>\n",
       "      <th>...</th>\n",
       "      <th>ZXDB</th>\n",
       "      <th>ZXDC</th>\n",
       "      <th>ZYG11A</th>\n",
       "      <th>ZYG11B</th>\n",
       "      <th>ZYX</th>\n",
       "      <th>ZZEF1</th>\n",
       "      <th>ZZZ3</th>\n",
       "      <th>psiTPTE22</th>\n",
       "      <th>tAKR</th>\n",
       "      <th>label</th>\n",
       "    </tr>\n",
       "    <tr>\n",
       "      <th>submitted_sample_id</th>\n",
       "      <th></th>\n",
       "      <th></th>\n",
       "      <th></th>\n",
       "      <th></th>\n",
       "      <th></th>\n",
       "      <th></th>\n",
       "      <th></th>\n",
       "      <th></th>\n",
       "      <th></th>\n",
       "      <th></th>\n",
       "      <th></th>\n",
       "      <th></th>\n",
       "      <th></th>\n",
       "      <th></th>\n",
       "      <th></th>\n",
       "      <th></th>\n",
       "      <th></th>\n",
       "      <th></th>\n",
       "      <th></th>\n",
       "      <th></th>\n",
       "      <th></th>\n",
       "    </tr>\n",
       "  </thead>\n",
       "  <tbody>\n",
       "    <tr>\n",
       "      <th>TCGA-05-4244-01A-01R-1107-07</th>\n",
       "      <td>74.0</td>\n",
       "      <td>0.0</td>\n",
       "      <td>5.0</td>\n",
       "      <td>388.0</td>\n",
       "      <td>28202.0</td>\n",
       "      <td>1.0</td>\n",
       "      <td>375.0</td>\n",
       "      <td>3.0</td>\n",
       "      <td>0.0</td>\n",
       "      <td>1865.0</td>\n",
       "      <td>...</td>\n",
       "      <td>838.0</td>\n",
       "      <td>2748.0</td>\n",
       "      <td>2.0</td>\n",
       "      <td>3117.0</td>\n",
       "      <td>8130.0</td>\n",
       "      <td>2496.0</td>\n",
       "      <td>1648.0</td>\n",
       "      <td>19.0</td>\n",
       "      <td>0.0</td>\n",
       "      <td>1</td>\n",
       "    </tr>\n",
       "    <tr>\n",
       "      <th>TCGA-05-4249-01A-01R-1107-07</th>\n",
       "      <td>373.0</td>\n",
       "      <td>1.0</td>\n",
       "      <td>5.0</td>\n",
       "      <td>276.0</td>\n",
       "      <td>79863.0</td>\n",
       "      <td>5.0</td>\n",
       "      <td>1797.0</td>\n",
       "      <td>2.0</td>\n",
       "      <td>1.0</td>\n",
       "      <td>1877.0</td>\n",
       "      <td>...</td>\n",
       "      <td>1533.0</td>\n",
       "      <td>3663.0</td>\n",
       "      <td>63.0</td>\n",
       "      <td>2446.0</td>\n",
       "      <td>7303.0</td>\n",
       "      <td>3535.0</td>\n",
       "      <td>2144.0</td>\n",
       "      <td>559.0</td>\n",
       "      <td>0.0</td>\n",
       "      <td>1</td>\n",
       "    </tr>\n",
       "    <tr>\n",
       "      <th>TCGA-05-4250-01A-01R-1107-07</th>\n",
       "      <td>153.0</td>\n",
       "      <td>0.0</td>\n",
       "      <td>0.0</td>\n",
       "      <td>455.0</td>\n",
       "      <td>51097.0</td>\n",
       "      <td>0.0</td>\n",
       "      <td>1075.0</td>\n",
       "      <td>3.0</td>\n",
       "      <td>4.0</td>\n",
       "      <td>1775.0</td>\n",
       "      <td>...</td>\n",
       "      <td>1102.0</td>\n",
       "      <td>2545.0</td>\n",
       "      <td>80.0</td>\n",
       "      <td>1433.0</td>\n",
       "      <td>16398.0</td>\n",
       "      <td>3530.0</td>\n",
       "      <td>1607.0</td>\n",
       "      <td>19.0</td>\n",
       "      <td>0.0</td>\n",
       "      <td>1</td>\n",
       "    </tr>\n",
       "    <tr>\n",
       "      <th>TCGA-05-4382-01A-01R-1206-07</th>\n",
       "      <td>609.0</td>\n",
       "      <td>0.0</td>\n",
       "      <td>0.0</td>\n",
       "      <td>468.0</td>\n",
       "      <td>97475.0</td>\n",
       "      <td>20.0</td>\n",
       "      <td>2317.0</td>\n",
       "      <td>9.0</td>\n",
       "      <td>6.0</td>\n",
       "      <td>2542.0</td>\n",
       "      <td>...</td>\n",
       "      <td>1449.0</td>\n",
       "      <td>3956.0</td>\n",
       "      <td>271.0</td>\n",
       "      <td>3795.0</td>\n",
       "      <td>28291.0</td>\n",
       "      <td>4886.0</td>\n",
       "      <td>2774.0</td>\n",
       "      <td>147.0</td>\n",
       "      <td>0.0</td>\n",
       "      <td>1</td>\n",
       "    </tr>\n",
       "    <tr>\n",
       "      <th>TCGA-05-4384-01A-01R-1755-07</th>\n",
       "      <td>208.0</td>\n",
       "      <td>0.0</td>\n",
       "      <td>0.0</td>\n",
       "      <td>143.0</td>\n",
       "      <td>79090.0</td>\n",
       "      <td>0.0</td>\n",
       "      <td>250.0</td>\n",
       "      <td>3.0</td>\n",
       "      <td>0.0</td>\n",
       "      <td>1090.0</td>\n",
       "      <td>...</td>\n",
       "      <td>922.0</td>\n",
       "      <td>2162.0</td>\n",
       "      <td>13.0</td>\n",
       "      <td>1275.0</td>\n",
       "      <td>5470.0</td>\n",
       "      <td>2844.0</td>\n",
       "      <td>1184.0</td>\n",
       "      <td>619.0</td>\n",
       "      <td>0.0</td>\n",
       "      <td>1</td>\n",
       "    </tr>\n",
       "  </tbody>\n",
       "</table>\n",
       "<p>5 rows × 20502 columns</p>\n",
       "</div>"
      ],
      "text/plain": [
       "                               A1BG  A1CF  A2BP1  A2LD1      A2M  A2ML1  \\\n",
       "submitted_sample_id                                                       \n",
       "TCGA-05-4244-01A-01R-1107-07   74.0   0.0    5.0  388.0  28202.0    1.0   \n",
       "TCGA-05-4249-01A-01R-1107-07  373.0   1.0    5.0  276.0  79863.0    5.0   \n",
       "TCGA-05-4250-01A-01R-1107-07  153.0   0.0    0.0  455.0  51097.0    0.0   \n",
       "TCGA-05-4382-01A-01R-1206-07  609.0   0.0    0.0  468.0  97475.0   20.0   \n",
       "TCGA-05-4384-01A-01R-1755-07  208.0   0.0    0.0  143.0  79090.0    0.0   \n",
       "\n",
       "                              A4GALT  A4GNT  AAA1    AAAS  ...    ZXDB  \\\n",
       "submitted_sample_id                                        ...           \n",
       "TCGA-05-4244-01A-01R-1107-07   375.0    3.0   0.0  1865.0  ...   838.0   \n",
       "TCGA-05-4249-01A-01R-1107-07  1797.0    2.0   1.0  1877.0  ...  1533.0   \n",
       "TCGA-05-4250-01A-01R-1107-07  1075.0    3.0   4.0  1775.0  ...  1102.0   \n",
       "TCGA-05-4382-01A-01R-1206-07  2317.0    9.0   6.0  2542.0  ...  1449.0   \n",
       "TCGA-05-4384-01A-01R-1755-07   250.0    3.0   0.0  1090.0  ...   922.0   \n",
       "\n",
       "                                ZXDC  ZYG11A  ZYG11B      ZYX   ZZEF1    ZZZ3  \\\n",
       "submitted_sample_id                                                             \n",
       "TCGA-05-4244-01A-01R-1107-07  2748.0     2.0  3117.0   8130.0  2496.0  1648.0   \n",
       "TCGA-05-4249-01A-01R-1107-07  3663.0    63.0  2446.0   7303.0  3535.0  2144.0   \n",
       "TCGA-05-4250-01A-01R-1107-07  2545.0    80.0  1433.0  16398.0  3530.0  1607.0   \n",
       "TCGA-05-4382-01A-01R-1206-07  3956.0   271.0  3795.0  28291.0  4886.0  2774.0   \n",
       "TCGA-05-4384-01A-01R-1755-07  2162.0    13.0  1275.0   5470.0  2844.0  1184.0   \n",
       "\n",
       "                              psiTPTE22  tAKR  label  \n",
       "submitted_sample_id                                   \n",
       "TCGA-05-4244-01A-01R-1107-07       19.0   0.0      1  \n",
       "TCGA-05-4249-01A-01R-1107-07      559.0   0.0      1  \n",
       "TCGA-05-4250-01A-01R-1107-07       19.0   0.0      1  \n",
       "TCGA-05-4382-01A-01R-1206-07      147.0   0.0      1  \n",
       "TCGA-05-4384-01A-01R-1755-07      619.0   0.0      1  \n",
       "\n",
       "[5 rows x 20502 columns]"
      ]
     },
     "execution_count": 76,
     "metadata": {},
     "output_type": "execute_result"
    }
   ],
   "source": [
    "icgc_df.head(5)\n"
   ]
  },
  {
   "cell_type": "code",
   "execution_count": null,
   "id": "30cdb9e8",
   "metadata": {},
   "outputs": [],
   "source": []
  },
  {
   "cell_type": "code",
   "execution_count": null,
   "id": "bc5f1e09",
   "metadata": {},
   "outputs": [],
   "source": []
  },
  {
   "cell_type": "code",
   "execution_count": 77,
   "id": "df394a6b",
   "metadata": {},
   "outputs": [
    {
     "data": {
      "text/plain": [
       "488"
      ]
     },
     "execution_count": 77,
     "metadata": {},
     "output_type": "execute_result"
    }
   ],
   "source": [
    "len(icgc_df[icgc_df[\"label\"]==1])"
   ]
  },
  {
   "cell_type": "code",
   "execution_count": 78,
   "id": "7e123e3f",
   "metadata": {},
   "outputs": [
    {
     "data": {
      "text/plain": [
       "55"
      ]
     },
     "execution_count": 78,
     "metadata": {},
     "output_type": "execute_result"
    }
   ],
   "source": [
    "len(icgc_df[icgc_df[\"label\"]==0])"
   ]
  },
  {
   "cell_type": "code",
   "execution_count": 81,
   "id": "a9d17e23",
   "metadata": {},
   "outputs": [],
   "source": [
    "icgc_cols = icgc_df.columns"
   ]
  },
  {
   "cell_type": "code",
   "execution_count": 82,
   "id": "e889952a",
   "metadata": {},
   "outputs": [
    {
     "data": {
      "text/plain": [
       "Index(['TSPAN6', 'TNMD', 'DPM1', 'SCYL3', 'C1orf112', 'FGR', 'CFH', 'FUCA2',\n",
       "       'GCLC', 'NFYA',\n",
       "       ...\n",
       "       'AC119733.1', 'AC020765.6', 'AC010980.1', 'AC004233.4', 'AL451106.1',\n",
       "       'AC008763.4', 'AC006486.3', 'AL391628.1', 'AP006621.6', 'label'],\n",
       "      dtype='object', length=19963)"
      ]
     },
     "execution_count": 82,
     "metadata": {},
     "output_type": "execute_result"
    }
   ],
   "source": [
    "tcga_cols"
   ]
  },
  {
   "cell_type": "code",
   "execution_count": 83,
   "id": "8d64dbf8",
   "metadata": {},
   "outputs": [
    {
     "data": {
      "text/plain": [
       "Index(['A1BG', 'A1CF', 'A2BP1', 'A2LD1', 'A2M', 'A2ML1', 'A4GALT', 'A4GNT',\n",
       "       'AAA1', 'AAAS',\n",
       "       ...\n",
       "       'ZXDB', 'ZXDC', 'ZYG11A', 'ZYG11B', 'ZYX', 'ZZEF1', 'ZZZ3', 'psiTPTE22',\n",
       "       'tAKR', 'label'],\n",
       "      dtype='object', length=20502)"
      ]
     },
     "execution_count": 83,
     "metadata": {},
     "output_type": "execute_result"
    }
   ],
   "source": [
    "icgc_cols"
   ]
  },
  {
   "cell_type": "code",
   "execution_count": 84,
   "id": "f7e0d82b",
   "metadata": {},
   "outputs": [
    {
     "data": {
      "text/plain": [
       "False"
      ]
     },
     "execution_count": 84,
     "metadata": {},
     "output_type": "execute_result"
    }
   ],
   "source": [
    "np.array_equal(icgc_cols,tcga_cols)"
   ]
  },
  {
   "cell_type": "code",
   "execution_count": 85,
   "id": "a232641a",
   "metadata": {},
   "outputs": [
    {
     "data": {
      "text/plain": [
       "16598"
      ]
     },
     "execution_count": 85,
     "metadata": {},
     "output_type": "execute_result"
    }
   ],
   "source": [
    "common_genes = np.intersect1d(icgc_cols,tcga_cols)\n",
    "len(common_genes)"
   ]
  },
  {
   "cell_type": "code",
   "execution_count": 86,
   "id": "94a42e9f",
   "metadata": {},
   "outputs": [
    {
     "data": {
      "text/plain": [
       "array(['A1BG', 'A1CF', 'A2M', ..., 'ZZEF1', 'ZZZ3', 'label'], dtype=object)"
      ]
     },
     "execution_count": 86,
     "metadata": {},
     "output_type": "execute_result"
    }
   ],
   "source": [
    "common_genes"
   ]
  },
  {
   "cell_type": "code",
   "execution_count": 87,
   "id": "9f7876c7",
   "metadata": {},
   "outputs": [],
   "source": [
    "icgc_common_df = icgc_df[common_genes]"
   ]
  },
  {
   "cell_type": "code",
   "execution_count": 88,
   "id": "07bb9f02",
   "metadata": {},
   "outputs": [
    {
     "data": {
      "text/plain": [
       "(543, 16598)"
      ]
     },
     "execution_count": 88,
     "metadata": {},
     "output_type": "execute_result"
    }
   ],
   "source": [
    "icgc_common_df.shape\n"
   ]
  },
  {
   "cell_type": "code",
   "execution_count": 89,
   "id": "67d53625",
   "metadata": {},
   "outputs": [
    {
     "data": {
      "text/plain": [
       "(600, 16598)"
      ]
     },
     "execution_count": 89,
     "metadata": {},
     "output_type": "execute_result"
    }
   ],
   "source": [
    "tcga_common_df = tcga_df[common_genes]\n",
    "tcga_common_df.shape\n"
   ]
  },
  {
   "cell_type": "code",
   "execution_count": 90,
   "id": "e730dbce",
   "metadata": {},
   "outputs": [
    {
     "data": {
      "text/plain": [
       "Index(['A1BG', 'A1CF', 'A2M', 'A2ML1', 'A4GALT', 'A4GNT', 'AAAS', 'AACS',\n",
       "       'AADAC', 'AADACL2',\n",
       "       ...\n",
       "       'ZWINT', 'ZXDA', 'ZXDB', 'ZXDC', 'ZYG11A', 'ZYG11B', 'ZYX', 'ZZEF1',\n",
       "       'ZZZ3', 'label'],\n",
       "      dtype='object', length=16598)"
      ]
     },
     "execution_count": 90,
     "metadata": {},
     "output_type": "execute_result"
    }
   ],
   "source": [
    "tcga_common_df.columns"
   ]
  },
  {
   "cell_type": "code",
   "execution_count": 91,
   "id": "875ccffb",
   "metadata": {},
   "outputs": [
    {
     "data": {
      "text/plain": [
       "Index(['A1BG', 'A1CF', 'A2M', 'A2ML1', 'A4GALT', 'A4GNT', 'AAAS', 'AACS',\n",
       "       'AADAC', 'AADACL2',\n",
       "       ...\n",
       "       'ZWINT', 'ZXDA', 'ZXDB', 'ZXDC', 'ZYG11A', 'ZYG11B', 'ZYX', 'ZZEF1',\n",
       "       'ZZZ3', 'label'],\n",
       "      dtype='object', length=16598)"
      ]
     },
     "execution_count": 91,
     "metadata": {},
     "output_type": "execute_result"
    }
   ],
   "source": [
    "icgc_common_df.columns"
   ]
  },
  {
   "cell_type": "code",
   "execution_count": null,
   "id": "74c0dff0",
   "metadata": {},
   "outputs": [],
   "source": [
    "# Check whether tcga_common_df and icgc_common_df contain any similar rows"
   ]
  },
  {
   "cell_type": "code",
   "execution_count": 92,
   "id": "9e78456b",
   "metadata": {},
   "outputs": [
    {
     "name": "stdout",
     "output_type": "stream",
     "text": [
      "   A1BG  A1CF      A2M  A2ML1  A4GALT  A4GNT    AAAS    AACS  AADAC  AADACL2  \\\n",
      "0  74.0   0.0  28202.0    1.0   375.0    3.0  1865.0  2302.0   10.0      2.0   \n",
      "\n",
      "   ...  ZWILCH   ZWINT   ZXDA   ZXDB    ZXDC  ZYG11A  ZYG11B     ZYX   ZZEF1  \\\n",
      "0  ...   633.0  1483.0  114.0  838.0  2748.0     2.0  3117.0  8130.0  2496.0   \n",
      "\n",
      "     ZZZ3  \n",
      "0  1648.0  \n",
      "\n",
      "[1 rows x 16597 columns]\n"
     ]
    },
    {
     "data": {
      "text/plain": [
       "(543, 16597)"
      ]
     },
     "execution_count": 92,
     "metadata": {},
     "output_type": "execute_result"
    }
   ],
   "source": [
    "test_icgc_df = icgc_common_df.reset_index(drop=True)\n",
    "test_icgc_df = test_icgc_df.drop(['label'], axis=1)\n",
    "print(test_icgc_df.head(1))\n",
    "test_icgc_df.shape"
   ]
  },
  {
   "cell_type": "code",
   "execution_count": 93,
   "id": "fecae5ab",
   "metadata": {},
   "outputs": [
    {
     "name": "stdout",
     "output_type": "stream",
     "text": [
      "   A1BG  A1CF    A2M  A2ML1  A4GALT  A4GNT  AAAS  AACS  AADAC  AADACL2  ...  \\\n",
      "0     4     0  77182      9     525      9   959   804     94        1  ...   \n",
      "\n",
      "   ZWILCH  ZWINT  ZXDA  ZXDB  ZXDC  ZYG11A  ZYG11B   ZYX  ZZEF1  ZZZ3  \n",
      "0     190    181   134   453  1156       1    1257  6258   2788   891  \n",
      "\n",
      "[1 rows x 16597 columns]\n"
     ]
    },
    {
     "data": {
      "text/plain": [
       "(600, 16597)"
      ]
     },
     "execution_count": 93,
     "metadata": {},
     "output_type": "execute_result"
    }
   ],
   "source": [
    "test_tcga_df = tcga_common_df.reset_index(drop=True)\n",
    "test_tcga_df = test_tcga_df.drop(['label'], axis=1)\n",
    "print(test_tcga_df.head(1))\n",
    "test_tcga_df.shape"
   ]
  },
  {
   "cell_type": "code",
   "execution_count": 94,
   "id": "7b1e685f",
   "metadata": {},
   "outputs": [
    {
     "data": {
      "text/plain": [
       "(1143, 16597)"
      ]
     },
     "execution_count": 94,
     "metadata": {},
     "output_type": "execute_result"
    }
   ],
   "source": [
    "df_diff = pd.concat([test_tcga_df,test_icgc_df]).drop_duplicates(keep=False)\n",
    "df_diff.shape"
   ]
  },
  {
   "cell_type": "code",
   "execution_count": null,
   "id": "c2817f2a",
   "metadata": {},
   "outputs": [],
   "source": [
    "# Good!\n",
    "#  tcga_common_df and icgc_common_df does totally different \n",
    "# icgc_common can be used as unknown data!"
   ]
  },
  {
   "cell_type": "code",
   "execution_count": null,
   "id": "3bac4d87",
   "metadata": {},
   "outputs": [],
   "source": []
  },
  {
   "cell_type": "code",
   "execution_count": 95,
   "id": "732f593e",
   "metadata": {},
   "outputs": [
    {
     "name": "stdout",
     "output_type": "stream",
     "text": [
      "(600, 16597)\n",
      "(600, 1)\n",
      "Length of inputs_train: (486, 16597)\n",
      "Length of labels_train: (486, 1)\n",
      "Length of inputs_val: (54, 16597)\n",
      "Length of labels_val: (54, 1)\n",
      "Length of inputs_test: (60, 16597)\n",
      "Length of labels_test: (60, 1)\n"
     ]
    }
   ],
   "source": [
    "input_data = tcga_common_df.iloc[:,:16597]\n",
    "print(input_data.shape)\n",
    "label_data = tcga_common_df.iloc[:,16597:]\n",
    "print(label_data.shape)\n",
    "inputs_training, inputs_test, labels_training, labels_test = train_test_split(input_data, label_data, test_size=0.1, shuffle=True)\n",
    "inputs_train, inputs_val, labels_train, labels_val = train_test_split(inputs_training, labels_training, test_size=0.1, shuffle=True)\n",
    "print(\"Length of inputs_train:\", inputs_train.shape)\n",
    "print(\"Length of labels_train:\", labels_train.shape)\n",
    "print(\"Length of inputs_val:\", inputs_val.shape)\n",
    "print(\"Length of labels_val:\", labels_val.shape)\n",
    "print(\"Length of inputs_test:\", inputs_test.shape)\n",
    "print(\"Length of labels_test:\", labels_test.shape)"
   ]
  },
  {
   "cell_type": "code",
   "execution_count": 96,
   "id": "2618b6e0",
   "metadata": {},
   "outputs": [
    {
     "name": "stdout",
     "output_type": "stream",
     "text": [
      "input_shape:  16597\n",
      "Model: \"sequential_1\"\n",
      "_________________________________________________________________\n",
      " Layer (type)                Output Shape              Param #   \n",
      "=================================================================\n",
      " dense_5 (Dense)             (None, 512)               8498176   \n",
      "                                                                 \n",
      " dense_6 (Dense)             (None, 256)               131328    \n",
      "                                                                 \n",
      " dense_7 (Dense)             (None, 128)               32896     \n",
      "                                                                 \n",
      " dense_8 (Dense)             (None, 64)                8256      \n",
      "                                                                 \n",
      " dense_9 (Dense)             (None, 1)                 65        \n",
      "                                                                 \n",
      "=================================================================\n",
      "Total params: 8,670,721\n",
      "Trainable params: 8,670,721\n",
      "Non-trainable params: 0\n",
      "_________________________________________________________________\n",
      "Epoch 1/50\n",
      "49/49 [==============================] - 9s 168ms/step - loss: 380.8268 - auc: 0.8095 - accuracy: 0.9259 - recall: 0.9524 - precision: 0.9655 - val_loss: 329.4608 - val_auc: 0.9792 - val_accuracy: 0.9630 - val_recall: 0.9583 - val_precision: 1.0000\n",
      "Epoch 2/50\n",
      "49/49 [==============================] - 7s 143ms/step - loss: 60.2286 - auc: 0.9510 - accuracy: 0.9835 - recall: 0.9909 - precision: 0.9909 - val_loss: 139.6403 - val_auc: 0.9792 - val_accuracy: 0.9630 - val_recall: 0.9583 - val_precision: 1.0000\n",
      "Epoch 3/50\n",
      "49/49 [==============================] - 6s 128ms/step - loss: 22.9557 - auc: 0.9755 - accuracy: 0.9918 - recall: 0.9955 - precision: 0.9955 - val_loss: 254.5187 - val_auc: 0.9792 - val_accuracy: 0.9630 - val_recall: 0.9583 - val_precision: 1.0000\n",
      "Epoch 4/50\n",
      "49/49 [==============================] - 7s 144ms/step - loss: 81.4354 - auc: 0.9399 - accuracy: 0.9815 - recall: 0.9909 - precision: 0.9887 - val_loss: 154.8841 - val_auc: 0.9792 - val_accuracy: 0.9630 - val_recall: 0.9583 - val_precision: 1.0000\n",
      "Epoch 5/50\n",
      "49/49 [==============================] - 6s 123ms/step - loss: 28.9352 - auc: 0.9522 - accuracy: 0.9856 - recall: 0.9932 - precision: 0.9910 - val_loss: 128.7455 - val_auc: 0.9896 - val_accuracy: 0.9815 - val_recall: 0.9792 - val_precision: 1.0000\n",
      "Epoch 6/50\n",
      "49/49 [==============================] - 6s 130ms/step - loss: 20.5951 - auc: 0.9755 - accuracy: 0.9918 - recall: 0.9955 - precision: 0.9955 - val_loss: 86.2621 - val_auc: 0.9896 - val_accuracy: 0.9815 - val_recall: 0.9792 - val_precision: 1.0000\n",
      "Epoch 7/50\n",
      "49/49 [==============================] - 6s 125ms/step - loss: 3.2923 - auc: 0.9878 - accuracy: 0.9959 - recall: 0.9977 - precision: 0.9977 - val_loss: 32.4546 - val_auc: 0.8333 - val_accuracy: 0.9630 - val_recall: 1.0000 - val_precision: 0.9600\n",
      "Epoch 8/50\n",
      "49/49 [==============================] - 6s 129ms/step - loss: 47.7527 - auc: 0.9633 - accuracy: 0.9877 - recall: 0.9932 - precision: 0.9932 - val_loss: 99.9883 - val_auc: 0.9792 - val_accuracy: 0.9630 - val_recall: 0.9583 - val_precision: 1.0000\n",
      "Epoch 9/50\n",
      "49/49 [==============================] - 6s 132ms/step - loss: 4.4056 - auc: 0.9866 - accuracy: 0.9938 - recall: 0.9955 - precision: 0.9977 - val_loss: 0.0000e+00 - val_auc: 1.0000 - val_accuracy: 1.0000 - val_recall: 1.0000 - val_precision: 1.0000\n",
      "Epoch 10/50\n",
      "49/49 [==============================] - 7s 136ms/step - loss: 30.6131 - auc: 0.9644 - accuracy: 0.9897 - recall: 0.9955 - precision: 0.9932 - val_loss: 16.0969 - val_auc: 0.9167 - val_accuracy: 0.9815 - val_recall: 1.0000 - val_precision: 0.9796\n"
     ]
    }
   ],
   "source": [
    "model_mlp_16597, history_mlp_16597 = mlp(inputs_train, inputs_val, labels_train, labels_val)"
   ]
  },
  {
   "cell_type": "code",
   "execution_count": 97,
   "id": "eb6093be",
   "metadata": {
    "scrolled": true
   },
   "outputs": [
    {
     "name": "stdout",
     "output_type": "stream",
     "text": [
      "2/2 - 0s - loss: 47.4586 - auc: 0.8750 - accuracy: 0.9667 - recall: 1.0000 - precision: 0.9630 - 49ms/epoch - 25ms/step\n"
     ]
    },
    {
     "data": {
      "text/plain": [
       "[47.458560943603516, 0.875, 0.9666666388511658, 1.0, 0.9629629850387573]"
      ]
     },
     "execution_count": 97,
     "metadata": {},
     "output_type": "execute_result"
    }
   ],
   "source": [
    "evaluation_16597 = model_mlp_16597.evaluate(inputs_test, labels_test, verbose=2)\n",
    "evaluation_16597"
   ]
  },
  {
   "cell_type": "code",
   "execution_count": 98,
   "id": "3c5b3ba4",
   "metadata": {},
   "outputs": [],
   "source": [
    "accuaracies.append(round(evaluation_16597[2]*100, 2))\n",
    "precisions.append(round(evaluation_16597[4]*100, 2))\n",
    "recalls.append(round(evaluation_16597[3]*100, 2))\n",
    "datasets.append(\"Common genes (=16598)\")"
   ]
  },
  {
   "cell_type": "code",
   "execution_count": 99,
   "id": "7c2f86a0",
   "metadata": {},
   "outputs": [
    {
     "name": "stdout",
     "output_type": "stream",
     "text": [
      "2/2 [==============================] - 0s 10ms/step\n"
     ]
    }
   ],
   "source": [
    "labels_pred_16597 = model_mlp_16597.predict(inputs_test).ravel()\n",
    "fpr_16597, tpr_16597, thresholds_16597 = roc_curve(labels_test, labels_pred_16597)"
   ]
  },
  {
   "cell_type": "code",
   "execution_count": null,
   "id": "30482109",
   "metadata": {},
   "outputs": [],
   "source": []
  },
  {
   "cell_type": "code",
   "execution_count": null,
   "id": "abeec891",
   "metadata": {},
   "outputs": [],
   "source": []
  },
  {
   "cell_type": "code",
   "execution_count": 100,
   "id": "2523247e",
   "metadata": {},
   "outputs": [
    {
     "name": "stdout",
     "output_type": "stream",
     "text": [
      "(543, 16597)\n",
      "(543, 1)\n"
     ]
    }
   ],
   "source": [
    "icgc_input_data = icgc_common_df.iloc[:,:16597]\n",
    "print(icgc_input_data.shape)\n",
    "icgc_label_data = icgc_common_df.iloc[:,16597:]\n",
    "print(icgc_label_data.shape)"
   ]
  },
  {
   "cell_type": "code",
   "execution_count": 101,
   "id": "ee1fee93",
   "metadata": {},
   "outputs": [
    {
     "data": {
      "text/html": [
       "<div>\n",
       "<style scoped>\n",
       "    .dataframe tbody tr th:only-of-type {\n",
       "        vertical-align: middle;\n",
       "    }\n",
       "\n",
       "    .dataframe tbody tr th {\n",
       "        vertical-align: top;\n",
       "    }\n",
       "\n",
       "    .dataframe thead th {\n",
       "        text-align: right;\n",
       "    }\n",
       "</style>\n",
       "<table border=\"1\" class=\"dataframe\">\n",
       "  <thead>\n",
       "    <tr style=\"text-align: right;\">\n",
       "      <th></th>\n",
       "      <th>ZZZ3</th>\n",
       "    </tr>\n",
       "    <tr>\n",
       "      <th>submitted_sample_id</th>\n",
       "      <th></th>\n",
       "    </tr>\n",
       "  </thead>\n",
       "  <tbody>\n",
       "    <tr>\n",
       "      <th>TCGA-05-4244-01A-01R-1107-07</th>\n",
       "      <td>1648.0</td>\n",
       "    </tr>\n",
       "    <tr>\n",
       "      <th>TCGA-05-4249-01A-01R-1107-07</th>\n",
       "      <td>2144.0</td>\n",
       "    </tr>\n",
       "    <tr>\n",
       "      <th>TCGA-05-4250-01A-01R-1107-07</th>\n",
       "      <td>1607.0</td>\n",
       "    </tr>\n",
       "    <tr>\n",
       "      <th>TCGA-05-4382-01A-01R-1206-07</th>\n",
       "      <td>2774.0</td>\n",
       "    </tr>\n",
       "    <tr>\n",
       "      <th>TCGA-05-4384-01A-01R-1755-07</th>\n",
       "      <td>1184.0</td>\n",
       "    </tr>\n",
       "    <tr>\n",
       "      <th>...</th>\n",
       "      <td>...</td>\n",
       "    </tr>\n",
       "    <tr>\n",
       "      <th>TCGA-MP-A4TJ-01A-51R-A262-07</th>\n",
       "      <td>688.0</td>\n",
       "    </tr>\n",
       "    <tr>\n",
       "      <th>TCGA-MP-A4TK-01A-11R-A24X-07</th>\n",
       "      <td>1034.0</td>\n",
       "    </tr>\n",
       "    <tr>\n",
       "      <th>TCGA-MP-A5C7-01A-11R-A262-07</th>\n",
       "      <td>2035.0</td>\n",
       "    </tr>\n",
       "    <tr>\n",
       "      <th>TCGA-NJ-A7XG-01A-12R-A39D-07</th>\n",
       "      <td>932.0</td>\n",
       "    </tr>\n",
       "    <tr>\n",
       "      <th>TCGA-S2-AA1A-01A-12R-A39D-07</th>\n",
       "      <td>778.0</td>\n",
       "    </tr>\n",
       "  </tbody>\n",
       "</table>\n",
       "<p>543 rows × 1 columns</p>\n",
       "</div>"
      ],
      "text/plain": [
       "                                ZZZ3\n",
       "submitted_sample_id                 \n",
       "TCGA-05-4244-01A-01R-1107-07  1648.0\n",
       "TCGA-05-4249-01A-01R-1107-07  2144.0\n",
       "TCGA-05-4250-01A-01R-1107-07  1607.0\n",
       "TCGA-05-4382-01A-01R-1206-07  2774.0\n",
       "TCGA-05-4384-01A-01R-1755-07  1184.0\n",
       "...                              ...\n",
       "TCGA-MP-A4TJ-01A-51R-A262-07   688.0\n",
       "TCGA-MP-A4TK-01A-11R-A24X-07  1034.0\n",
       "TCGA-MP-A5C7-01A-11R-A262-07  2035.0\n",
       "TCGA-NJ-A7XG-01A-12R-A39D-07   932.0\n",
       "TCGA-S2-AA1A-01A-12R-A39D-07   778.0\n",
       "\n",
       "[543 rows x 1 columns]"
      ]
     },
     "execution_count": 101,
     "metadata": {},
     "output_type": "execute_result"
    }
   ],
   "source": [
    "icgc_input_data.iloc[:,-1:]"
   ]
  },
  {
   "cell_type": "code",
   "execution_count": 102,
   "id": "ea218656",
   "metadata": {},
   "outputs": [
    {
     "data": {
      "text/html": [
       "<div>\n",
       "<style scoped>\n",
       "    .dataframe tbody tr th:only-of-type {\n",
       "        vertical-align: middle;\n",
       "    }\n",
       "\n",
       "    .dataframe tbody tr th {\n",
       "        vertical-align: top;\n",
       "    }\n",
       "\n",
       "    .dataframe thead th {\n",
       "        text-align: right;\n",
       "    }\n",
       "</style>\n",
       "<table border=\"1\" class=\"dataframe\">\n",
       "  <thead>\n",
       "    <tr style=\"text-align: right;\">\n",
       "      <th></th>\n",
       "      <th>ZZZ3</th>\n",
       "      <th>label</th>\n",
       "    </tr>\n",
       "    <tr>\n",
       "      <th>submitted_sample_id</th>\n",
       "      <th></th>\n",
       "      <th></th>\n",
       "    </tr>\n",
       "  </thead>\n",
       "  <tbody>\n",
       "    <tr>\n",
       "      <th>TCGA-05-4244-01A-01R-1107-07</th>\n",
       "      <td>1648.0</td>\n",
       "      <td>1</td>\n",
       "    </tr>\n",
       "    <tr>\n",
       "      <th>TCGA-05-4249-01A-01R-1107-07</th>\n",
       "      <td>2144.0</td>\n",
       "      <td>1</td>\n",
       "    </tr>\n",
       "    <tr>\n",
       "      <th>TCGA-05-4250-01A-01R-1107-07</th>\n",
       "      <td>1607.0</td>\n",
       "      <td>1</td>\n",
       "    </tr>\n",
       "    <tr>\n",
       "      <th>TCGA-05-4382-01A-01R-1206-07</th>\n",
       "      <td>2774.0</td>\n",
       "      <td>1</td>\n",
       "    </tr>\n",
       "    <tr>\n",
       "      <th>TCGA-05-4384-01A-01R-1755-07</th>\n",
       "      <td>1184.0</td>\n",
       "      <td>1</td>\n",
       "    </tr>\n",
       "    <tr>\n",
       "      <th>...</th>\n",
       "      <td>...</td>\n",
       "      <td>...</td>\n",
       "    </tr>\n",
       "    <tr>\n",
       "      <th>TCGA-MP-A4TJ-01A-51R-A262-07</th>\n",
       "      <td>688.0</td>\n",
       "      <td>1</td>\n",
       "    </tr>\n",
       "    <tr>\n",
       "      <th>TCGA-MP-A4TK-01A-11R-A24X-07</th>\n",
       "      <td>1034.0</td>\n",
       "      <td>1</td>\n",
       "    </tr>\n",
       "    <tr>\n",
       "      <th>TCGA-MP-A5C7-01A-11R-A262-07</th>\n",
       "      <td>2035.0</td>\n",
       "      <td>1</td>\n",
       "    </tr>\n",
       "    <tr>\n",
       "      <th>TCGA-NJ-A7XG-01A-12R-A39D-07</th>\n",
       "      <td>932.0</td>\n",
       "      <td>1</td>\n",
       "    </tr>\n",
       "    <tr>\n",
       "      <th>TCGA-S2-AA1A-01A-12R-A39D-07</th>\n",
       "      <td>778.0</td>\n",
       "      <td>1</td>\n",
       "    </tr>\n",
       "  </tbody>\n",
       "</table>\n",
       "<p>543 rows × 2 columns</p>\n",
       "</div>"
      ],
      "text/plain": [
       "                                ZZZ3  label\n",
       "submitted_sample_id                        \n",
       "TCGA-05-4244-01A-01R-1107-07  1648.0      1\n",
       "TCGA-05-4249-01A-01R-1107-07  2144.0      1\n",
       "TCGA-05-4250-01A-01R-1107-07  1607.0      1\n",
       "TCGA-05-4382-01A-01R-1206-07  2774.0      1\n",
       "TCGA-05-4384-01A-01R-1755-07  1184.0      1\n",
       "...                              ...    ...\n",
       "TCGA-MP-A4TJ-01A-51R-A262-07   688.0      1\n",
       "TCGA-MP-A4TK-01A-11R-A24X-07  1034.0      1\n",
       "TCGA-MP-A5C7-01A-11R-A262-07  2035.0      1\n",
       "TCGA-NJ-A7XG-01A-12R-A39D-07   932.0      1\n",
       "TCGA-S2-AA1A-01A-12R-A39D-07   778.0      1\n",
       "\n",
       "[543 rows x 2 columns]"
      ]
     },
     "execution_count": 102,
     "metadata": {},
     "output_type": "execute_result"
    }
   ],
   "source": [
    "icgc_common_df.iloc[:,16596:]"
   ]
  },
  {
   "cell_type": "code",
   "execution_count": 103,
   "id": "558bb710",
   "metadata": {},
   "outputs": [
    {
     "data": {
      "text/html": [
       "<div>\n",
       "<style scoped>\n",
       "    .dataframe tbody tr th:only-of-type {\n",
       "        vertical-align: middle;\n",
       "    }\n",
       "\n",
       "    .dataframe tbody tr th {\n",
       "        vertical-align: top;\n",
       "    }\n",
       "\n",
       "    .dataframe thead th {\n",
       "        text-align: right;\n",
       "    }\n",
       "</style>\n",
       "<table border=\"1\" class=\"dataframe\">\n",
       "  <thead>\n",
       "    <tr style=\"text-align: right;\">\n",
       "      <th></th>\n",
       "      <th>label</th>\n",
       "    </tr>\n",
       "    <tr>\n",
       "      <th>submitted_sample_id</th>\n",
       "      <th></th>\n",
       "    </tr>\n",
       "  </thead>\n",
       "  <tbody>\n",
       "    <tr>\n",
       "      <th>TCGA-05-4244-01A-01R-1107-07</th>\n",
       "      <td>1</td>\n",
       "    </tr>\n",
       "    <tr>\n",
       "      <th>TCGA-05-4249-01A-01R-1107-07</th>\n",
       "      <td>1</td>\n",
       "    </tr>\n",
       "    <tr>\n",
       "      <th>TCGA-05-4250-01A-01R-1107-07</th>\n",
       "      <td>1</td>\n",
       "    </tr>\n",
       "    <tr>\n",
       "      <th>TCGA-05-4382-01A-01R-1206-07</th>\n",
       "      <td>1</td>\n",
       "    </tr>\n",
       "    <tr>\n",
       "      <th>TCGA-05-4384-01A-01R-1755-07</th>\n",
       "      <td>1</td>\n",
       "    </tr>\n",
       "    <tr>\n",
       "      <th>...</th>\n",
       "      <td>...</td>\n",
       "    </tr>\n",
       "    <tr>\n",
       "      <th>TCGA-MP-A4TJ-01A-51R-A262-07</th>\n",
       "      <td>1</td>\n",
       "    </tr>\n",
       "    <tr>\n",
       "      <th>TCGA-MP-A4TK-01A-11R-A24X-07</th>\n",
       "      <td>1</td>\n",
       "    </tr>\n",
       "    <tr>\n",
       "      <th>TCGA-MP-A5C7-01A-11R-A262-07</th>\n",
       "      <td>1</td>\n",
       "    </tr>\n",
       "    <tr>\n",
       "      <th>TCGA-NJ-A7XG-01A-12R-A39D-07</th>\n",
       "      <td>1</td>\n",
       "    </tr>\n",
       "    <tr>\n",
       "      <th>TCGA-S2-AA1A-01A-12R-A39D-07</th>\n",
       "      <td>1</td>\n",
       "    </tr>\n",
       "  </tbody>\n",
       "</table>\n",
       "<p>543 rows × 1 columns</p>\n",
       "</div>"
      ],
      "text/plain": [
       "                              label\n",
       "submitted_sample_id                \n",
       "TCGA-05-4244-01A-01R-1107-07      1\n",
       "TCGA-05-4249-01A-01R-1107-07      1\n",
       "TCGA-05-4250-01A-01R-1107-07      1\n",
       "TCGA-05-4382-01A-01R-1206-07      1\n",
       "TCGA-05-4384-01A-01R-1755-07      1\n",
       "...                             ...\n",
       "TCGA-MP-A4TJ-01A-51R-A262-07      1\n",
       "TCGA-MP-A4TK-01A-11R-A24X-07      1\n",
       "TCGA-MP-A5C7-01A-11R-A262-07      1\n",
       "TCGA-NJ-A7XG-01A-12R-A39D-07      1\n",
       "TCGA-S2-AA1A-01A-12R-A39D-07      1\n",
       "\n",
       "[543 rows x 1 columns]"
      ]
     },
     "execution_count": 103,
     "metadata": {},
     "output_type": "execute_result"
    }
   ],
   "source": [
    "icgc_label_data"
   ]
  },
  {
   "cell_type": "code",
   "execution_count": 104,
   "id": "cf1c2057",
   "metadata": {},
   "outputs": [
    {
     "data": {
      "text/plain": [
       "488"
      ]
     },
     "execution_count": 104,
     "metadata": {},
     "output_type": "execute_result"
    }
   ],
   "source": [
    "len(icgc_common_df[icgc_common_df[\"label\"]==1])"
   ]
  },
  {
   "cell_type": "code",
   "execution_count": 105,
   "id": "e8ce8421",
   "metadata": {},
   "outputs": [
    {
     "name": "stdout",
     "output_type": "stream",
     "text": [
      "17/17 - 0s - loss: 130.9632 - auc: 0.7727 - accuracy: 0.9540 - recall: 1.0000 - precision: 0.9513 - 398ms/epoch - 23ms/step\n"
     ]
    },
    {
     "data": {
      "text/plain": [
       "[130.96324157714844,\n",
       " 0.7727272510528564,\n",
       " 0.9539594650268555,\n",
       " 1.0,\n",
       " 0.9512670636177063]"
      ]
     },
     "execution_count": 105,
     "metadata": {},
     "output_type": "execute_result"
    }
   ],
   "source": [
    "evaluation_icgc = model_mlp_16597.evaluate(icgc_input_data, icgc_label_data, verbose=2)\n",
    "evaluation_icgc"
   ]
  },
  {
   "cell_type": "code",
   "execution_count": 106,
   "id": "2fbba6ec",
   "metadata": {},
   "outputs": [],
   "source": [
    "accuaracies.append(round(evaluation_icgc[2]*100, 2))\n",
    "precisions.append(round(evaluation_icgc[4]*100, 2))\n",
    "recalls.append(round(evaluation_icgc[3]*100, 2))\n",
    "datasets.append(\"Common genes evaluate with icgc data\")"
   ]
  },
  {
   "cell_type": "code",
   "execution_count": 107,
   "id": "70e20eb4",
   "metadata": {},
   "outputs": [
    {
     "name": "stdout",
     "output_type": "stream",
     "text": [
      "17/17 [==============================] - 0s 11ms/step\n"
     ]
    }
   ],
   "source": [
    "labels_pred_icgc = model_mlp_16597.predict(icgc_input_data).ravel()\n",
    "fpr_icgc, tpr_icgc, thresholds_16597 = roc_curve(icgc_label_data, labels_pred_icgc)"
   ]
  },
  {
   "cell_type": "code",
   "execution_count": null,
   "id": "52d39442",
   "metadata": {},
   "outputs": [],
   "source": []
  },
  {
   "cell_type": "code",
   "execution_count": null,
   "id": "1629f76b",
   "metadata": {},
   "outputs": [],
   "source": []
  },
  {
   "cell_type": "code",
   "execution_count": 108,
   "id": "8ee66a30",
   "metadata": {},
   "outputs": [
    {
     "data": {
      "text/html": [
       "<div>\n",
       "<style scoped>\n",
       "    .dataframe tbody tr th:only-of-type {\n",
       "        vertical-align: middle;\n",
       "    }\n",
       "\n",
       "    .dataframe tbody tr th {\n",
       "        vertical-align: top;\n",
       "    }\n",
       "\n",
       "    .dataframe thead th {\n",
       "        text-align: right;\n",
       "    }\n",
       "</style>\n",
       "<table border=\"1\" class=\"dataframe\">\n",
       "  <thead>\n",
       "    <tr style=\"text-align: right;\">\n",
       "      <th></th>\n",
       "      <th>Feature Type</th>\n",
       "      <th>Precision (%)</th>\n",
       "      <th>Recall (%)</th>\n",
       "      <th>Accuracy (%)</th>\n",
       "    </tr>\n",
       "  </thead>\n",
       "  <tbody>\n",
       "    <tr>\n",
       "      <th>0</th>\n",
       "      <td>All genes(=19963)</td>\n",
       "      <td>100.00</td>\n",
       "      <td>100.0</td>\n",
       "      <td>100.00</td>\n",
       "    </tr>\n",
       "    <tr>\n",
       "      <th>1</th>\n",
       "      <td>All genes(=19963)</td>\n",
       "      <td>100.00</td>\n",
       "      <td>100.0</td>\n",
       "      <td>100.00</td>\n",
       "    </tr>\n",
       "    <tr>\n",
       "      <th>2</th>\n",
       "      <td>Common genes (=16598)</td>\n",
       "      <td>96.30</td>\n",
       "      <td>100.0</td>\n",
       "      <td>96.67</td>\n",
       "    </tr>\n",
       "    <tr>\n",
       "      <th>3</th>\n",
       "      <td>Common genes evaluate with icgc data</td>\n",
       "      <td>95.13</td>\n",
       "      <td>100.0</td>\n",
       "      <td>95.40</td>\n",
       "    </tr>\n",
       "  </tbody>\n",
       "</table>\n",
       "</div>"
      ],
      "text/plain": [
       "                           Feature Type  Precision (%)  Recall (%)  \\\n",
       "0                     All genes(=19963)         100.00       100.0   \n",
       "1                     All genes(=19963)         100.00       100.0   \n",
       "2                 Common genes (=16598)          96.30       100.0   \n",
       "3  Common genes evaluate with icgc data          95.13       100.0   \n",
       "\n",
       "   Accuracy (%)  \n",
       "0        100.00  \n",
       "1        100.00  \n",
       "2         96.67  \n",
       "3         95.40  "
      ]
     },
     "execution_count": 108,
     "metadata": {},
     "output_type": "execute_result"
    }
   ],
   "source": [
    "results = {\n",
    "    \"Feature Type\": datasets,\n",
    "    \"Precision (%)\": precisions,\n",
    "    \"Recall (%)\": recalls,\n",
    "    \"Accuracy (%)\": accuaracies,\n",
    "}\n",
    "\n",
    "#load data into a DataFrame object:\n",
    "results_df = pd.DataFrame(results)\n",
    "results_df"
   ]
  },
  {
   "cell_type": "code",
   "execution_count": null,
   "id": "25f03a3f",
   "metadata": {},
   "outputs": [],
   "source": []
  },
  {
   "cell_type": "code",
   "execution_count": 109,
   "id": "d3a5b729",
   "metadata": {},
   "outputs": [],
   "source": [
    "def get_ff(model_name):\n",
    "    if model_name == 'all':\n",
    "        return fpr_all, tpr_all\n",
    "    if model_name == 'common-tcga':\n",
    "        return fpr_16597, tpr_16597\n",
    "    if model_name == 'common-icgc':\n",
    "        return fpr_icgc, tpr_icgc\n"
   ]
  },
  {
   "cell_type": "code",
   "execution_count": null,
   "id": "4e4790c9",
   "metadata": {},
   "outputs": [],
   "source": []
  },
  {
   "cell_type": "code",
   "execution_count": 110,
   "id": "c01df986",
   "metadata": {
    "scrolled": true
   },
   "outputs": [
    {
     "name": "stderr",
     "output_type": "stream",
     "text": [
      "C:\\Users\\mtheo\\AppData\\Local\\Temp\\ipykernel_54132\\2641346188.py:1: MatplotlibDeprecationWarning: The seaborn styles shipped by Matplotlib are deprecated since 3.6, as they no longer correspond to the styles shipped by seaborn. However, they will remain available as 'seaborn-v0_8-<style>'. Alternatively, directly use the seaborn API instead.\n",
      "  plt.style.use('seaborn-poster')\n"
     ]
    },
    {
     "data": {
      "image/png": "[encoded data removed]",
      "text/plain": [
       "<Figure size 1280x880 with 1 Axes>"
      ]
     },
     "metadata": {},
     "output_type": "display_data"
    }
   ],
   "source": [
    "plt.style.use('seaborn-poster')\n",
    "with plt.style.context(['seaborn-poster']):\n",
    "    fig, ax = plt.subplots()        \n",
    "    for p in ['all', 'common-tcga','common-icgc']: \n",
    "        fpr, tpr = get_ff(p)\n",
    "        roc_auc=auc(fpr, tpr)\n",
    "        ax.plot(fpr, tpr, label='%s AUC=(%.2f)' %(p, roc_auc)) \n",
    "    ax.plot([0,1],[0,1],'r--')\n",
    "    ax.legend(loc='lower right') \n",
    "    ax.legend(title='model')       \n",
    "    ax.set(xlabel='False Positive')        \n",
    "    ax.set(ylabel='True Positive')\n",
    "    plt.title('ROC curve')\n",
    "    #ax.autoscale(tight=True)        \n",
    "    #fig.savefig('fig1.pdf')        \n",
    "    fig.savefig('tcga-roc-curve.jpg', dpi=300)"
   ]
  },
  {
   "cell_type": "code",
   "execution_count": null,
   "id": "91ec4d12",
   "metadata": {},
   "outputs": [],
   "source": [
    "if IN_COLAB:\n",
    "    %tensorboard --logdir logs/fit"
   ]
  },
  {
   "cell_type": "code",
   "execution_count": null,
   "id": "bcaad4c8",
   "metadata": {},
   "outputs": [],
   "source": []
  }
 ],
 "metadata": {
  "kernelspec": {
   "display_name": "Python 3 (ipykernel)",
   "language": "python",
   "name": "python3"
  },
  "language_info": {
   "codemirror_mode": {
    "name": "ipython",
    "version": 3
   },
   "file_extension": ".py",
   "mimetype": "text/x-python",
   "name": "python",
   "nbconvert_exporter": "python",
   "pygments_lexer": "ipython3",
   "version": "3.9.16"
  }
 },
 "nbformat": 4,
 "nbformat_minor": 5
}
